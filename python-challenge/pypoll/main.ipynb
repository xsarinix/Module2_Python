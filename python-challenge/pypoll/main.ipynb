{
 "cells": [
  {
   "cell_type": "code",
   "execution_count": 1,
   "metadata": {},
   "outputs": [],
   "source": [
    "import csv"
   ]
  },
  {
   "cell_type": "code",
   "execution_count": null,
   "metadata": {},
   "outputs": [],
   "source": [
    "import pandas as pd"
   ]
  },
  {
   "cell_type": "code",
   "execution_count": 15,
   "metadata": {},
   "outputs": [
    {
     "name": "stdout",
     "output_type": "stream",
     "text": [
      "['Khan', 'Correy', 'Li', \"O'Tooley\"]\n"
     ]
    }
   ],
   "source": [
    "# check how index returns a value not in list\n",
    "mylist=[]\n",
    "election_data_path=\"election_data.csv\"\n",
    "with open(election_data_path, newline='') as election_data_file:\n",
    "    election_reader=csv.reader(election_data_file, delimiter=\",\")\n",
    "    candidate_list=[]\n",
    "    count=0\n",
    "    total_can=[]\n",
    "    next(election_reader)\n",
    "    for row in election_reader:\n",
    "        count=count+1\n",
    "        candidate_name=row[2]\n",
    "        total_can.append(candidate_name)\n",
    "        #candidate_list.append(row[2])\n",
    "        if not candidate_name in candidate_list:\n",
    "            candidate_list.append(candidate_name)\n",
    "    print(candidate_list)"
   ]
  },
  {
   "cell_type": "code",
   "execution_count": null,
   "metadata": {
    "scrolled": true
   },
   "outputs": [],
   "source": []
  },
  {
   "cell_type": "code",
   "execution_count": null,
   "metadata": {},
   "outputs": [],
   "source": [
    "election_pandas=pd.read_csv(election_data_path)\n",
    "election_pandas.head()"
   ]
  },
  {
   "cell_type": "code",
   "execution_count": null,
   "metadata": {},
   "outputs": [],
   "source": [
    "# print results\n",
    "print(\"Election Results\")\n",
    "print(\"-------------------------\")\n",
    "print(f\"Total votes: {total_votes})\n",
    "print(\"-------------------------\")\n",
    "for name in candidate_list:      \n",
    "    print(f\"{name}: {percentage} ({vote_count}))\n",
    "print(\"-------------------------\")\n",
    "print(f\"Winner: {winner_name})\n",
    "print(\"-------------------------\")"
   ]
  }
 ],
 "metadata": {
  "kernelspec": {
   "display_name": "Python 3",
   "language": "python",
   "name": "python3"
  },
  "language_info": {
   "codemirror_mode": {
    "name": "ipython",
    "version": 3
   },
   "file_extension": ".py",
   "mimetype": "text/x-python",
   "name": "python",
   "nbconvert_exporter": "python",
   "pygments_lexer": "ipython3",
   "version": "3.6.6"
  }
 },
 "nbformat": 4,
 "nbformat_minor": 2
}
