{
 "cells": [
  {
   "cell_type": "code",
   "execution_count": 1,
   "metadata": {},
   "outputs": [],
   "source": [
    "import csv\n",
    "from decimal import Decimal"
   ]
  },
  {
   "cell_type": "code",
   "execution_count": null,
   "metadata": {},
   "outputs": [],
   "source": [
    "import pandas as pd"
   ]
  },
  {
   "cell_type": "code",
   "execution_count": null,
   "metadata": {},
   "outputs": [],
   "source": [
    "#this cell is a reference cell to check in on data\n",
    "election_pandas=pd.read_csv(election_data_path)\n",
    "election_pandas.head()\n",
    "election_pandas.details()"
   ]
  },
  {
   "cell_type": "code",
   "execution_count": 4,
   "metadata": {},
   "outputs": [],
   "source": [
    "# this cell creates a short list of names and a long list of votes\n",
    "\n",
    "election_data_path=\"election_data.csv\"\n",
    "candidate_list=[]\n",
    "candidate_votes=[]\n",
    "with open(election_data_path, newline='') as election_data_file:\n",
    "    election_reader=csv.reader(election_data_file, delimiter=\",\")\n",
    "    next(election_reader)\n",
    "    for row in election_reader:\n",
    "        candidate_name=row[2]\n",
    "        candidate_votes.append(candidate_name)\n",
    "        if not candidate_name in candidate_list:\n",
    "            candidate_list.append(candidate_name)"
   ]
  },
  {
   "cell_type": "code",
   "execution_count": null,
   "metadata": {},
   "outputs": [],
   "source": [
    "# this cell creates a dictionary of of names and voter IDs\n",
    "# which can be used to not only tally votes, but check for duplicates\n",
    "\n",
    "# this cell also creates a dictionary of counties and votes\n",
    "# which can be used to tally results by county\n",
    "\n",
    "election_data_path=\"election_data.csv\"\n",
    "candidate_results={}\n",
    "county_results={}\n",
    "with open(election_data_path, newline='') as election_data_file:\n",
    "    election_reader=csv.reader(election_data_file, delimiter=\",\")\n",
    "    next(election_reader)\n",
    "    for row in election_reader:\n",
    "        candidate_name=row[2]\n",
    "        voter_id=row[0]\n",
    "        county=row[1]\n",
    "        county_results.setdefault(county,[]).append(candidate_name)\n",
    "        candidate_results.setdefault(candidate_name,[]).append(voter_id)"
   ]
  },
  {
   "cell_type": "code",
   "execution_count": 5,
   "metadata": {},
   "outputs": [
    {
     "name": "stdout",
     "output_type": "stream",
     "text": [
      "Election Results\n",
      "-------------------------\n",
      "Total votes: 1048575\n",
      "-------------------------\n",
      "Khan: 63.09% (661583)\n",
      "Correy: 19.94% (209046)\n",
      "Li: 13.96% (146360)\n",
      "O'Tooley: 3.01% (31586)\n",
      "-------------------------\n",
      "Winner: Khan\n",
      "-------------------------\n"
     ]
    }
   ],
   "source": [
    "# this cell prints results for the solution involving lists only\n",
    "\n",
    "total_candidates=len(candidate_list)\n",
    "total_votes=len(candidate_votes)\n",
    "winner_count=0\n",
    "output=open(\"election_results.txt\",\"w+\")\n",
    "print(\"Election Results\")\n",
    "output.write(\"Election Results\\n\")\n",
    "print(\"-------------------------\")\n",
    "output.write(\"-------------------------\\n\")\n",
    "print(f\"Total votes: {total_votes}\")\n",
    "output.write(f\"Total votes: {total_votes}\\n\")\n",
    "print(\"-------------------------\")\n",
    "output.write(\"-------------------------\\n\")\n",
    "for name in candidate_list:\n",
    "    vote_tally=candidate_votes.count(name)\n",
    "    vote_pct=vote_tally/total_votes\n",
    "    vote_pct_conv=round(Decimal(100*vote_pct),2)\n",
    "    if vote_tally > winner_count:\n",
    "        winner_count=vote_tally\n",
    "        winner_name=name\n",
    "    print(f\"{name}: {vote_pct_conv}% ({vote_tally})\")\n",
    "    output.write(f\"{name}: {vote_pct_conv}% ({vote_tally}) \\n\")\n",
    "print(\"-------------------------\")\n",
    "output.write(\"-------------------------\\n\")\n",
    "print(f\"Winner: {winner_name}\")\n",
    "output.write(f\"Winner: {winner_name}\\n\")\n",
    "print(\"-------------------------\")\n",
    "output.write(\"-------------------------\\n\")\n",
    "\n",
    "output.close()"
   ]
  },
  {
   "cell_type": "code",
   "execution_count": null,
   "metadata": {},
   "outputs": [],
   "source": [
    "# this cell prints results for the solution involving dictionaries\n",
    "# and writes to .txt file\n",
    "\n",
    "total_candidates=len(list(candidate_results))\n",
    "candidate_list=list(candidate_results)\n",
    "total_votes=0\n",
    "winner_count=0\n",
    "for indiv in list(candidate_results):\n",
    "    vote_list=candidate_results[indiv]\n",
    "    total_votes=total_votes+len(vote_list) \n",
    "output=open(\"election_results.txt\",\"w+\")\n",
    "print(\"Election Results\")\n",
    "output.write(\"Election Results\\n\")\n",
    "print(\"-------------------------\")\n",
    "output.write(\"-------------------------\\n\")\n",
    "print(f\"Total votes: {total_votes}\")\n",
    "output.write(f\"Total votes: {total_votes}\\n\")\n",
    "print(\"-------------------------\")\n",
    "output.write(\"-------------------------\\n\")\n",
    "for name in candidate_list:\n",
    "    vote_list=candidate_results[name]\n",
    "    vote_tally=len(vote_list)\n",
    "    vote_pct=vote_tally/total_votes\n",
    "    vote_pct_conv=round(Decimal(100*vote_pct),2)\n",
    "    if vote_tally > winner_count:\n",
    "        winner_count=vote_tally\n",
    "        winner_name=name\n",
    "    print(f\"{name}: {vote_pct_conv}% ({vote_tally}) \\n\")\n",
    "    output.write(f\"{name}: {vote_pct_conv}% ({vote_tally}) \\n\")\n",
    "print(\"-------------------------\")\n",
    "output.write(\"-------------------------\\n\")\n",
    "print(f\"Winner: {winner_name}\")\n",
    "output.write(f\"Winner: {winner_name}\\n\")\n",
    "print(\"-------------------------\")\n",
    "output.write(\"-------------------------\\n\")\n",
    "\n",
    "output.close()"
   ]
  },
  {
   "cell_type": "code",
   "execution_count": null,
   "metadata": {},
   "outputs": [],
   "source": [
    "county_cont=True\n",
    "input(\"Do you want the results by county? True or False? \")\n",
    "while count_cont == True:\n",
    "    for "
   ]
  }
 ],
 "metadata": {
  "kernelspec": {
   "display_name": "Python 3",
   "language": "python",
   "name": "python3"
  },
  "language_info": {
   "codemirror_mode": {
    "name": "ipython",
    "version": 3
   },
   "file_extension": ".py",
   "mimetype": "text/x-python",
   "name": "python",
   "nbconvert_exporter": "python",
   "pygments_lexer": "ipython3",
   "version": "3.6.6"
  }
 },
 "nbformat": 4,
 "nbformat_minor": 2
}
