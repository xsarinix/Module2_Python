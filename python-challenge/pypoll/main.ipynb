{
 "cells": [
  {
   "cell_type": "code",
   "execution_count": 1,
   "metadata": {},
   "outputs": [],
   "source": [
    "import csv\n",
    "from decimal import Decimal"
   ]
  },
  {
   "cell_type": "code",
   "execution_count": 12,
   "metadata": {},
   "outputs": [],
   "source": [
    "import pandas as pd"
   ]
  },
  {
   "cell_type": "code",
   "execution_count": 15,
   "metadata": {},
   "outputs": [
    {
     "ename": "AttributeError",
     "evalue": "'DataFrame' object has no attribute 'details'",
     "output_type": "error",
     "traceback": [
      "\u001b[1;31m---------------------------------------------------------------------------\u001b[0m",
      "\u001b[1;31mAttributeError\u001b[0m                            Traceback (most recent call last)",
      "\u001b[1;32m<ipython-input-15-6ded460ecbaa>\u001b[0m in \u001b[0;36m<module>\u001b[1;34m\u001b[0m\n\u001b[0;32m      2\u001b[0m \u001b[0melection_pandas\u001b[0m\u001b[1;33m=\u001b[0m\u001b[0mpd\u001b[0m\u001b[1;33m.\u001b[0m\u001b[0mread_csv\u001b[0m\u001b[1;33m(\u001b[0m\u001b[0melection_data_path\u001b[0m\u001b[1;33m)\u001b[0m\u001b[1;33m\u001b[0m\u001b[0m\n\u001b[0;32m      3\u001b[0m \u001b[0melection_pandas\u001b[0m\u001b[1;33m.\u001b[0m\u001b[0mhead\u001b[0m\u001b[1;33m(\u001b[0m\u001b[1;33m)\u001b[0m\u001b[1;33m\u001b[0m\u001b[0m\n\u001b[1;32m----> 4\u001b[1;33m \u001b[0melection_pandas\u001b[0m\u001b[1;33m.\u001b[0m\u001b[0mdetails\u001b[0m\u001b[1;33m(\u001b[0m\u001b[1;33m)\u001b[0m\u001b[1;33m\u001b[0m\u001b[0m\n\u001b[0m",
      "\u001b[1;32mC:\\ProgramData\\Anaconda3\\lib\\site-packages\\pandas\\core\\generic.py\u001b[0m in \u001b[0;36m__getattr__\u001b[1;34m(self, name)\u001b[0m\n\u001b[0;32m   4374\u001b[0m             \u001b[1;32mif\u001b[0m \u001b[0mself\u001b[0m\u001b[1;33m.\u001b[0m\u001b[0m_info_axis\u001b[0m\u001b[1;33m.\u001b[0m\u001b[0m_can_hold_identifiers_and_holds_name\u001b[0m\u001b[1;33m(\u001b[0m\u001b[0mname\u001b[0m\u001b[1;33m)\u001b[0m\u001b[1;33m:\u001b[0m\u001b[1;33m\u001b[0m\u001b[0m\n\u001b[0;32m   4375\u001b[0m                 \u001b[1;32mreturn\u001b[0m \u001b[0mself\u001b[0m\u001b[1;33m[\u001b[0m\u001b[0mname\u001b[0m\u001b[1;33m]\u001b[0m\u001b[1;33m\u001b[0m\u001b[0m\n\u001b[1;32m-> 4376\u001b[1;33m             \u001b[1;32mreturn\u001b[0m \u001b[0mobject\u001b[0m\u001b[1;33m.\u001b[0m\u001b[0m__getattribute__\u001b[0m\u001b[1;33m(\u001b[0m\u001b[0mself\u001b[0m\u001b[1;33m,\u001b[0m \u001b[0mname\u001b[0m\u001b[1;33m)\u001b[0m\u001b[1;33m\u001b[0m\u001b[0m\n\u001b[0m\u001b[0;32m   4377\u001b[0m \u001b[1;33m\u001b[0m\u001b[0m\n\u001b[0;32m   4378\u001b[0m     \u001b[1;32mdef\u001b[0m \u001b[0m__setattr__\u001b[0m\u001b[1;33m(\u001b[0m\u001b[0mself\u001b[0m\u001b[1;33m,\u001b[0m \u001b[0mname\u001b[0m\u001b[1;33m,\u001b[0m \u001b[0mvalue\u001b[0m\u001b[1;33m)\u001b[0m\u001b[1;33m:\u001b[0m\u001b[1;33m\u001b[0m\u001b[0m\n",
      "\u001b[1;31mAttributeError\u001b[0m: 'DataFrame' object has no attribute 'details'"
     ]
    }
   ],
   "source": [
    "#this cell is a reference cell to check in on data\n",
    "election_pandas=pd.read_csv(election_data_path)\n",
    "election_pandas.head()\n",
    "election_pandas.details()"
   ]
  },
  {
   "cell_type": "code",
   "execution_count": null,
   "metadata": {},
   "outputs": [],
   "source": [
    "# this cell creates a short list of names and a long list of votes\n",
    "\n",
    "election_data_path=\"election_data.csv\"\n",
    "with open(election_data_path, newline='') as election_data_file:\n",
    "    election_reader=csv.reader(election_data_file, delimiter=\",\")\n",
    "    candidate_list=[]\n",
    "    candidate_votes=[]\n",
    "    next(election_reader)\n",
    "    for row in election_reader:\n",
    "        candidate_name=row[2]\n",
    "        candidate_votes.append(candidate_name)\n",
    "        if not candidate_name in candidate_list:\n",
    "            candidate_list.append(candidate_name)"
   ]
  },
  {
   "cell_type": "code",
   "execution_count": 3,
   "metadata": {},
   "outputs": [
    {
     "data": {
      "text/plain": [
       "['Khan', 'Correy', 'Li', \"O'Tooley\"]"
      ]
     },
     "execution_count": 3,
     "metadata": {},
     "output_type": "execute_result"
    }
   ],
   "source": [
    "# this cell creates a dictionary of of names and voter IDs\n",
    "# which can be used to not only tally votes, but check for duplicates\n",
    "\n",
    "# this cell also creates a dictionary of counties and votes\n",
    "# which can be used to tally results by county\n",
    "\n",
    "election_data_path=\"election_data.csv\"\n",
    "candidate_results={}\n",
    "county_results={}\n",
    "with open(election_data_path, newline='') as election_data_file:\n",
    "    election_reader=csv.reader(election_data_file, delimiter=\",\")\n",
    "    next(election_reader)\n",
    "    for row in election_reader:\n",
    "        candidate_name=row[2]\n",
    "        voter_id=row[0]\n",
    "        #county=row[1]\n",
    "        #county_results.setdefault(county,[]).append(candidate_name)\n",
    "        candidate_results.setdefault(candidate_name,[]).append(voter_id)\n",
    "list(candidate_results)\n",
    "#list(county_results)"
   ]
  },
  {
   "cell_type": "code",
   "execution_count": 16,
   "metadata": {},
   "outputs": [
    {
     "ename": "NameError",
     "evalue": "name 'candidate_votes' is not defined",
     "output_type": "error",
     "traceback": [
      "\u001b[1;31m---------------------------------------------------------------------------\u001b[0m",
      "\u001b[1;31mNameError\u001b[0m                                 Traceback (most recent call last)",
      "\u001b[1;32m<ipython-input-16-6ccdfca5ece4>\u001b[0m in \u001b[0;36m<module>\u001b[1;34m\u001b[0m\n\u001b[0;32m      2\u001b[0m \u001b[1;33m\u001b[0m\u001b[0m\n\u001b[0;32m      3\u001b[0m \u001b[0mtotal_candidates\u001b[0m\u001b[1;33m=\u001b[0m\u001b[0mlen\u001b[0m\u001b[1;33m(\u001b[0m\u001b[0mcandidate_list\u001b[0m\u001b[1;33m)\u001b[0m\u001b[1;33m\u001b[0m\u001b[0m\n\u001b[1;32m----> 4\u001b[1;33m \u001b[0mtotal_votes\u001b[0m\u001b[1;33m=\u001b[0m\u001b[0mlen\u001b[0m\u001b[1;33m(\u001b[0m\u001b[0mcandidate_votes\u001b[0m\u001b[1;33m)\u001b[0m\u001b[1;33m\u001b[0m\u001b[0m\n\u001b[0m\u001b[0;32m      5\u001b[0m \u001b[0mwinner_count\u001b[0m\u001b[1;33m=\u001b[0m\u001b[1;36m0\u001b[0m\u001b[1;33m\u001b[0m\u001b[0m\n\u001b[0;32m      6\u001b[0m \u001b[0moutput\u001b[0m\u001b[1;33m=\u001b[0m\u001b[0mopen\u001b[0m\u001b[1;33m(\u001b[0m\u001b[1;34m\"budget_output.txt\"\u001b[0m\u001b[1;33m,\u001b[0m\u001b[1;34m\"w+\"\u001b[0m\u001b[1;33m)\u001b[0m\u001b[1;33m\u001b[0m\u001b[0m\n",
      "\u001b[1;31mNameError\u001b[0m: name 'candidate_votes' is not defined"
     ]
    }
   ],
   "source": [
    "# this cell prints results for the solution involving lists only\n",
    "\n",
    "total_candidates=len(candidate_list)\n",
    "total_votes=len(candidate_votes)\n",
    "winner_count=0\n",
    "output=open(\"budget_output.txt\",\"w+\")\n",
    "# print results\n",
    "print(\"Election Results\")\n",
    "output.write(\"Election Results\\n\")\n",
    "print(\"-------------------------\")\n",
    "output.write(\"-------------------------\\n\")\n",
    "print(f\"Total votes: {total_votes}\")\n",
    "output.write(f\"Total votes: {total_votes}\\n\")\n",
    "print(\"-------------------------\")\n",
    "output.write(\"-------------------------\\n\")\n",
    "for name in candidate_list:\n",
    "    vote_tally=candidate_votes.count(name)\n",
    "    vote_pct=vote_tally/total_votes\n",
    "    vote_pct_conv=round(Decimal(100*vote_pct),2)\n",
    "    if vote_tally > winner_count:\n",
    "        winner_count=vote_tally\n",
    "        winner_name=name\n",
    "    print(f\"{name}: {vote_pct_conv}% ({vote_tally})\")\n",
    "    output.write(f\"{name}: {vote_pct_conv}% ({vote_tally}) \\n\")\n",
    "print(\"-------------------------\")\n",
    "output.write(\"-------------------------\\n\")\n",
    "print(f\"Winner: {winner_name}\")\n",
    "output.write(f\"Winner: {winner_name}\\n\")\n",
    "print(\"-------------------------\")\n",
    "output.write(\"-------------------------\\n\")\n",
    "\n",
    "output.close()"
   ]
  },
  {
   "cell_type": "code",
   "execution_count": 10,
   "metadata": {},
   "outputs": [
    {
     "name": "stdout",
     "output_type": "stream",
     "text": [
      "Election Results\n",
      "-------------------------\n",
      "Total votes: 1048575\n",
      "-------------------------\n",
      "Khan: 63.09% (661583) \n",
      "\n",
      "Correy: 19.94% (209046) \n",
      "\n",
      "Li: 13.96% (146360) \n",
      "\n",
      "O'Tooley: 3.01% (31586) \n",
      "\n",
      "-------------------------\n",
      "Winner: Khan\n",
      "-------------------------\n"
     ]
    }
   ],
   "source": [
    "# this cell prints results for the solution involving dictionaries\n",
    "\n",
    "total_candidates=len(list(candidate_results))\n",
    "candidate_list=list(candidate_results)\n",
    "total_votes=0\n",
    "winner_count=0\n",
    "for indiv in list(candidate_results):\n",
    "    vote_list=candidate_results[indiv]\n",
    "    total_votes=total_votes+len(vote_list) \n",
    "print(\"Election Results\")\n",
    "print(\"-------------------------\")\n",
    "print(f\"Total votes: {total_votes}\")\n",
    "print(\"-------------------------\")\n",
    "for name in candidate_list:\n",
    "    vote_list=candidate_results[name]\n",
    "    vote_tally=len(vote_list)\n",
    "    vote_pct=vote_tally/total_votes\n",
    "    vote_pct_conv=round(Decimal(100*vote_pct),2)\n",
    "    if vote_tally > winner_count:\n",
    "        winner_count=vote_tally\n",
    "        winner_name=name\n",
    "    print(f\"{name}: {vote_pct_conv}% ({vote_tally}) \\n\")\n",
    "print(\"-------------------------\")\n",
    "print(f\"Winner: {winner_name}\")\n",
    "print(\"-------------------------\")\n"
   ]
  },
  {
   "cell_type": "code",
   "execution_count": null,
   "metadata": {},
   "outputs": [],
   "source": [
    "county_cont=True\n",
    "input(\"Do you want the results by county? True or False? \")\n",
    "while count_cont == True:\n",
    "    for "
   ]
  }
 ],
 "metadata": {
  "kernelspec": {
   "display_name": "Python 3",
   "language": "python",
   "name": "python3"
  },
  "language_info": {
   "codemirror_mode": {
    "name": "ipython",
    "version": 3
   },
   "file_extension": ".py",
   "mimetype": "text/x-python",
   "name": "python",
   "nbconvert_exporter": "python",
   "pygments_lexer": "ipython3",
   "version": "3.6.6"
  }
 },
 "nbformat": 4,
 "nbformat_minor": 2
}
