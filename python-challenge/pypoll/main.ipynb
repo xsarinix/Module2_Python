{
 "cells": [
  {
   "cell_type": "code",
   "execution_count": 57,
   "metadata": {},
   "outputs": [],
   "source": [
    "import csv\n",
    "from decimal import Decimal"
   ]
  },
  {
   "cell_type": "code",
   "execution_count": 2,
   "metadata": {},
   "outputs": [],
   "source": [
    "import pandas as pd"
   ]
  },
  {
   "cell_type": "code",
   "execution_count": 53,
   "metadata": {},
   "outputs": [],
   "source": [
    "# this cell creates a short list of names and a long list of votes\n",
    "\n",
    "election_data_path=\"election_data.csv\"\n",
    "with open(election_data_path, newline='') as election_data_file:\n",
    "    election_reader=csv.reader(election_data_file, delimiter=\",\")\n",
    "    candidate_list=[]\n",
    "    candidate_votes=[]\n",
    "    next(election_reader)\n",
    "    for row in election_reader:\n",
    "        candidate_name=row[2]\n",
    "        candidate_votes.append(candidate_name)\n",
    "        if not candidate_name in candidate_list:\n",
    "            candidate_list.append(candidate_name)"
   ]
  },
  {
   "cell_type": "code",
   "execution_count": null,
   "metadata": {
    "scrolled": true
   },
   "outputs": [],
   "source": []
  },
  {
   "cell_type": "code",
   "execution_count": 46,
   "metadata": {},
   "outputs": [
    {
     "data": {
      "text/plain": [
       "['Khan', 'Correy', 'Li', \"O'Tooley\"]"
      ]
     },
     "execution_count": 46,
     "metadata": {},
     "output_type": "execute_result"
    }
   ],
   "source": [
    "#this cell creates a dictionary of of names and votes\n",
    "\n",
    "election_data_path=\"election_data.csv\"\n",
    "candidate_dict={}\n",
    "with open(election_data_path, newline='') as election_data_file:\n",
    "    election_reader=csv.reader(election_data_file, delimiter=\",\")\n",
    "    next(election_reader)\n",
    "    for row in election_reader:\n",
    "        candidate_name=row[2]\n",
    "        voter_id=row[0]\n",
    "        candidate_dict.setdefault(candidate_name,[]).append(voter_id)\n",
    "list(candidate_dict)"
   ]
  },
  {
   "cell_type": "code",
   "execution_count": 32,
   "metadata": {},
   "outputs": [
    {
     "data": {
      "text/html": [
       "<div>\n",
       "<style scoped>\n",
       "    .dataframe tbody tr th:only-of-type {\n",
       "        vertical-align: middle;\n",
       "    }\n",
       "\n",
       "    .dataframe tbody tr th {\n",
       "        vertical-align: top;\n",
       "    }\n",
       "\n",
       "    .dataframe thead th {\n",
       "        text-align: right;\n",
       "    }\n",
       "</style>\n",
       "<table border=\"1\" class=\"dataframe\">\n",
       "  <thead>\n",
       "    <tr style=\"text-align: right;\">\n",
       "      <th></th>\n",
       "      <th>Voter ID</th>\n",
       "      <th>County</th>\n",
       "      <th>Candidate</th>\n",
       "    </tr>\n",
       "  </thead>\n",
       "  <tbody>\n",
       "    <tr>\n",
       "      <th>0</th>\n",
       "      <td>12864552</td>\n",
       "      <td>Marsh</td>\n",
       "      <td>Khan</td>\n",
       "    </tr>\n",
       "    <tr>\n",
       "      <th>1</th>\n",
       "      <td>17444633</td>\n",
       "      <td>Marsh</td>\n",
       "      <td>Correy</td>\n",
       "    </tr>\n",
       "    <tr>\n",
       "      <th>2</th>\n",
       "      <td>19330107</td>\n",
       "      <td>Marsh</td>\n",
       "      <td>Khan</td>\n",
       "    </tr>\n",
       "    <tr>\n",
       "      <th>3</th>\n",
       "      <td>19865775</td>\n",
       "      <td>Queen</td>\n",
       "      <td>Khan</td>\n",
       "    </tr>\n",
       "    <tr>\n",
       "      <th>4</th>\n",
       "      <td>11927875</td>\n",
       "      <td>Marsh</td>\n",
       "      <td>Khan</td>\n",
       "    </tr>\n",
       "  </tbody>\n",
       "</table>\n",
       "</div>"
      ],
      "text/plain": [
       "   Voter ID County Candidate\n",
       "0  12864552  Marsh      Khan\n",
       "1  17444633  Marsh    Correy\n",
       "2  19330107  Marsh      Khan\n",
       "3  19865775  Queen      Khan\n",
       "4  11927875  Marsh      Khan"
      ]
     },
     "execution_count": 32,
     "metadata": {},
     "output_type": "execute_result"
    }
   ],
   "source": [
    "election_pandas=pd.read_csv(election_data_path)\n",
    "election_pandas.head()"
   ]
  },
  {
   "cell_type": "code",
   "execution_count": 71,
   "metadata": {},
   "outputs": [
    {
     "name": "stdout",
     "output_type": "stream",
     "text": [
      "Election Results\n",
      "-------------------------\n",
      "Total votes: 1048575\n",
      "-------------------------\n",
      "Khan: 63.09% (661583) \n",
      "\n",
      "Correy: 19.94% (209046) \n",
      "\n",
      "Li: 13.96% (146360) \n",
      "\n",
      "O'Tooley: 3.01% (31586) \n",
      "\n",
      "-------------------------\n",
      "Winner: Khan\n",
      "-------------------------\n"
     ]
    }
   ],
   "source": [
    "total_candidates=len(candidate_list)\n",
    "total_votes=len(candidate_votes)\n",
    "winner_count=0\n",
    "# print results\n",
    "print(\"Election Results\")\n",
    "print(\"-------------------------\")\n",
    "print(f\"Total votes: {total_votes}\")\n",
    "print(\"-------------------------\")\n",
    "for name in candidate_list:\n",
    "    vote_tally=candidate_votes.count(name)\n",
    "    vote_pct=vote_tally/total_votes\n",
    "    vote_pct_conv=round(Decimal(100*vote_pct),2)\n",
    "    if vote_tally > winner_count:\n",
    "        winner_count=vote_tally\n",
    "        winner_name=name\n",
    "    print(f\"{name}: {vote_pct_conv}% ({vote_tally}) \\n\")\n",
    "print(\"-------------------------\")\n",
    "print(f\"Winner: {winner_name}\")\n",
    "print(\"-------------------------\")"
   ]
  },
  {
   "cell_type": "code",
   "execution_count": null,
   "metadata": {},
   "outputs": [],
   "source": []
  }
 ],
 "metadata": {
  "kernelspec": {
   "display_name": "Python 3",
   "language": "python",
   "name": "python3"
  },
  "language_info": {
   "codemirror_mode": {
    "name": "ipython",
    "version": 3
   },
   "file_extension": ".py",
   "mimetype": "text/x-python",
   "name": "python",
   "nbconvert_exporter": "python",
   "pygments_lexer": "ipython3",
   "version": "3.6.6"
  }
 },
 "nbformat": 4,
 "nbformat_minor": 2
}
