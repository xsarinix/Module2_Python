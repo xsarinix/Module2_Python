{
 "cells": [
  {
   "cell_type": "code",
   "execution_count": 17,
   "metadata": {},
   "outputs": [],
   "source": [
    "import csv\n",
    "from decimal import Decimal"
   ]
  },
  {
   "cell_type": "code",
   "execution_count": 25,
   "metadata": {},
   "outputs": [
    {
     "name": "stdout",
     "output_type": "stream",
     "text": [
      "Financial Analysis\n",
      "--------------------------------\n",
      "Total Months: 86\n",
      "Total: $38382578\n",
      "Average Change: $-2315.12\n",
      "Greatest Increase in Profits: Feb-2012 ($1170593)\n",
      "Greatest Decrease in Profits: Sep-2013 ($-1196225)\n"
     ]
    }
   ],
   "source": [
    "budget_path=\"budget_data.csv\"\n",
    "with open(budget_path, newline=\"\") as budget_data:\n",
    "    budget_reader=csv.reader(budget_data, delimiter=\",\")\n",
    "    pl_list=[]\n",
    "    mon_list=[]\n",
    "    end=[]\n",
    "    start=[]\n",
    "    next(budget_reader,None)\n",
    "    for row in budget_reader:\n",
    "        pl_conv=int(row[1])\n",
    "        pl_list.append(pl_conv)\n",
    "        end.append(pl_conv)\n",
    "        start.append(pl_conv)\n",
    "        mon_list.append(row[0])\n",
    "    months=len(mon_list)\n",
    "    total_net=sum(pl_list)\n",
    "    max_pl=max(pl_list)\n",
    "    min_pl=min(pl_list)\n",
    "    max_mon=mon_list[pl_list.index(max_pl)]\n",
    "    min_mon=mon_list[pl_list.index(min_pl)]\n",
    "end.pop(0)\n",
    "last_index=len(pl_list)-1\n",
    "start.pop(last_index)\n",
    "total_change=sum(end)-sum(start)\n",
    "avg_change=round(Decimal(total_change/last_index),2)\n",
    "print(\"Financial Analysis\")\n",
    "print(\"--------------------------------\")\n",
    "print(f\"Total Months: {months}\")\n",
    "print(f\"Total: ${total_net}\")     \n",
    "print(f\"Average Change: ${avg_change}\")\n",
    "print(f\"Greatest Increase in Profits: {max_mon} (${max_pl})\")\n",
    "print(f\"Greatest Decrease in Profits: {min_mon} (${min_pl})\")  \n",
    "output=open(\"budget_output.txt\",\"w+\")\n",
    "output.write(\"Financial Analysis\")\n",
    "output.write(\"\\n\")\n",
    "output.write(\"--------------------------------\")\n",
    "output.write(\"\\n\")\n",
    "output.write(f\"Total Months: {months}\")\n",
    "output.write(\"\\n\")\n",
    "output.write(f\"Total: ${total_net}\")\n",
    "output.write(\"\\n\")\n",
    "output.write(f\"Average Change: ${avg_change}\")\n",
    "output.write(\"\\n\")\n",
    "output.write(f\"Greatest Increase in Profits: {max_mon} (${max_pl})\")\n",
    "output.write(\"\\n\")\n",
    "output.write(f\"Greatest Decrease in Profits: {min_mon} (${min_pl})\")\n",
    "output.close()"
   ]
  }
 ],
 "metadata": {
  "kernelspec": {
   "display_name": "Python 3",
   "language": "python",
   "name": "python3"
  },
  "language_info": {
   "codemirror_mode": {
    "name": "ipython",
    "version": 3
   },
   "file_extension": ".py",
   "mimetype": "text/x-python",
   "name": "python",
   "nbconvert_exporter": "python",
   "pygments_lexer": "ipython3",
   "version": "3.6.6"
  }
 },
 "nbformat": 4,
 "nbformat_minor": 2
}
