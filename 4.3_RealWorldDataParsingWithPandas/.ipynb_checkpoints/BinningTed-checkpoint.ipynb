{
 "cells": [
  {
   "cell_type": "code",
   "execution_count": null,
   "metadata": {},
   "outputs": [],
   "source": [
    "# Import Dependencies\n",
    "import pandas as pd"
   ]
  },
  {
   "cell_type": "code",
   "execution_count": null,
   "metadata": {
    "scrolled": true
   },
   "outputs": [],
   "source": [
    "# Create a path to the csv and read it into a Pandas DataFrame\n",
    "ted_path = \"ted_talks.csv\"\n",
    "ted_data = pd.read_csv(ted_path)\n",
    "\n",
    "ted_data.head()"
   ]
  },
  {
   "cell_type": "code",
   "execution_count": null,
   "metadata": {},
   "outputs": [],
   "source": [
    "# describe data for fact checking\n",
    "ted_data.describe()"
   ]
  },
  {
   "cell_type": "code",
   "execution_count": null,
   "metadata": {},
   "outputs": [],
   "source": [
    "# Figure out the minimum and maximum views for a TED Talk\n",
    "max=ted_data[\"views\"].max()\n",
    "min=ted_data[\"views\"].min()\n",
    "print(f\"Max: {max}\")\n",
    "print(f\"Min: {min}\")"
   ]
  },
  {
   "cell_type": "code",
   "execution_count": null,
   "metadata": {},
   "outputs": [],
   "source": [
    "# Create bins in which to place values based upon TED Talk views\n",
    "view_bins=[50000,12050000,24050000,36050000,48000000]\n",
    "\n",
    "# Create labels for these bins\n",
    "view_bin_labels=[\"Q1\", \"Q2\", \"Q3\", \"Q4\"]"
   ]
  },
  {
   "cell_type": "code",
   "execution_count": null,
   "metadata": {},
   "outputs": [],
   "source": [
    "# Slice the data and place it into bins\n",
    "view_bin_data=[]\n",
    "view_bin_data=pd.cut(\n",
    "    ted_data[\"views\"], view_bins, labels=view_bin_labels)\n",
    "view_bin_data"
   ]
  },
  {
   "cell_type": "code",
   "execution_count": null,
   "metadata": {},
   "outputs": [],
   "source": [
    "# Place the data series into a new column inside of the DataFrame\n",
    "ted_data[\"View Quartiles\"]=view_bin_data\n",
    "ted_data.head()"
   ]
  },
  {
   "cell_type": "code",
   "execution_count": null,
   "metadata": {},
   "outputs": [],
   "source": [
    "# Create a GroupBy object based upon \"View Group\"\n",
    "quartile-grouped_ted_data=ted_data.groupby([\"View Quartiles\"])\n",
    "quartile-grouped_ted_data.count().head()\n",
    "\n",
    "# Find how many rows fall into each bin\n",
    "\n",
    "\n",
    "# Get the average of each column within the GroupBy object"
   ]
  },
  {
   "cell_type": "code",
   "execution_count": null,
   "metadata": {},
   "outputs": [],
   "source": []
  }
 ],
 "metadata": {
  "kernelspec": {
   "display_name": "Python 3",
   "language": "python",
   "name": "python3"
  },
  "language_info": {
   "codemirror_mode": {
    "name": "ipython",
    "version": 3
   },
   "file_extension": ".py",
   "mimetype": "text/x-python",
   "name": "python",
   "nbconvert_exporter": "python",
   "pygments_lexer": "ipython3",
   "version": "3.6.6"
  }
 },
 "nbformat": 4,
 "nbformat_minor": 2
}
