{
 "cells": [
  {
   "cell_type": "code",
   "execution_count": 9,
   "metadata": {},
   "outputs": [],
   "source": [
    "# Dependencies\n",
    "import requests\n",
    "from config import api_key\n",
    "from pprint import pprint\n",
    "\n",
    "url = \"https://api.nytimes.com/svc/search/v2/articlesearch.json?\"\n",
    "\n",
    "# Store a search term\n",
    "query=\"kombucha\"\n",
    "\n",
    "# Search for articles published between a begin and end date\n",
    "begin_date=\"20100101\"\n",
    "end_date=\"20171231\"\n",
    "\n",
    "\n",
    "# Build url\n",
    "query_url=url+\"api-key=\"+ api_key +\"&q=\" +query + \"?begin_date=\" + begin_date + \"?end_date=\" + end_date"
   ]
  },
  {
   "cell_type": "code",
   "execution_count": 25,
   "metadata": {},
   "outputs": [
    {
     "name": "stdout",
     "output_type": "stream",
     "text": [
      "['web_url', 'snippet', 'print_page', 'blog', 'source', 'multimedia', 'headline', 'keywords', 'pub_date', 'document_type', 'news_desk', 'byline', 'type_of_material', '_id', 'word_count', 'score', 'uri']\n"
     ]
    }
   ],
   "source": [
    "# Retrieve articles\n",
    "articles = requests.get(query_url).json()\n",
    "articles_list=[article for article in articles['response']['docs']]\n",
    "print(list(articles_list[0]))\n"
   ]
  },
  {
   "cell_type": "code",
   "execution_count": 30,
   "metadata": {},
   "outputs": [
    {
     "name": "stdout",
     "output_type": "stream",
     "text": [
      "Article #1: Flavor can be a difficult thing to talk about.\n",
      "Article #2: Rachel Krupa, a publicist, wants to hit pause on the Amazon Dash button.\n",
      "Article #3: Make Alison Roman’s sautéed sausage and brussels sprouts with quick-pickled red onion, and top it with an egg, or put it on a pizza.\n",
      "Article #4: Freestyle and pair some pasta from the larder with sausage and sage, or stick to a recipe like Tejal Rao’s for aligot or Melissa Clark’s for pie crust.\n",
      "Article #5: The city center of San José has transformed into the capital’s premier cultural and restaurant zone.\n",
      "Article #6: Start this week off with a Sunday roast before ending it stunningly, with a beer-can chicken.\n",
      "Article #7: The plant-based menu at Root & Bloom, a new spot in the Elmwood Village neighborhood, is delicious and quirky.\n",
      "Article #8: The actor just made her second start-up investment, in dating app Bumble. Her investments will skew heavily toward companies with an element of social impact, and companies founded by women.\n",
      "Article #9: With high ambitions and low prices, the tiny restaurant epitomized the delicious idiosyncrasies of the city’s restaurant culture. \n",
      "Article #10: Would going gray require me to listen to folk music, host potlucks and wear caftans? Or could it be another way of being a woman in the world?\n"
     ]
    }
   ],
   "source": [
    "for idx, article in enumerate(articles_list):\n",
    "    print(f\"Article #{idx+1}: {article['snippet']}\")"
   ]
  },
  {
   "cell_type": "code",
   "execution_count": null,
   "metadata": {},
   "outputs": [],
   "source": [
    "# BONUS: How would we get 30 results? \n",
    "# HINT: Look up the page query param"
   ]
  }
 ],
 "metadata": {
  "kernelspec": {
   "display_name": "Python 3",
   "language": "python",
   "name": "python3"
  },
  "language_info": {
   "codemirror_mode": {
    "name": "ipython",
    "version": 3
   },
   "file_extension": ".py",
   "mimetype": "text/x-python",
   "name": "python",
   "nbconvert_exporter": "python",
   "pygments_lexer": "ipython3",
   "version": "3.6.6"
  },
  "varInspector": {
   "cols": {
    "lenName": 16,
    "lenType": 16,
    "lenVar": 40
   },
   "kernels_config": {
    "python": {
     "delete_cmd_postfix": "",
     "delete_cmd_prefix": "del ",
     "library": "var_list.py",
     "varRefreshCmd": "print(var_dic_list())"
    },
    "r": {
     "delete_cmd_postfix": ") ",
     "delete_cmd_prefix": "rm(",
     "library": "var_list.r",
     "varRefreshCmd": "cat(var_dic_list()) "
    }
   },
   "types_to_exclude": [
    "module",
    "function",
    "builtin_function_or_method",
    "instance",
    "_Feature"
   ],
   "window_display": false
  }
 },
 "nbformat": 4,
 "nbformat_minor": 2
}
