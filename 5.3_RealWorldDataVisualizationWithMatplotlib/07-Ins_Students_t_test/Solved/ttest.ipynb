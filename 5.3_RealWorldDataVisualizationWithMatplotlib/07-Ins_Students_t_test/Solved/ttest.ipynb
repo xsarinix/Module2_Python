{
 "cells": [
  {
   "cell_type": "code",
   "execution_count": 1,
   "metadata": {},
   "outputs": [],
   "source": [
    "# Dependencies\n",
    "import numpy as np\n",
    "import pandas as pd\n",
    "from scipy import stats"
   ]
  },
  {
   "cell_type": "code",
   "execution_count": 3,
   "metadata": {},
   "outputs": [],
   "source": [
    "# Read data\n",
    "housing_data = pd.read_csv(\"../Resources/housing_data.csv\")\n",
    "housing_data = housing_data.sample(frac=1).reset_index(drop=True)"
   ]
  },
  {
   "cell_type": "code",
   "execution_count": 4,
   "metadata": {},
   "outputs": [],
   "source": [
    "# Create two samples\n",
    "s1 = housing_data.iloc[0:19, 13]\n",
    "s2 = housing_data.iloc[20:40, 13]"
   ]
  },
  {
   "cell_type": "code",
   "execution_count": 5,
   "metadata": {},
   "outputs": [
    {
     "name": "stdout",
     "output_type": "stream",
     "text": [
      "t-statistics is 0.4685513351365983.\n",
      "p-value is 0.6422465068634271.\n"
     ]
    }
   ],
   "source": [
    "# Run T test\n",
    "(t_stat, p) = stats.ttest_ind(s1, s2, equal_var=False)\n",
    "print(\"t-statistics is {}.\".format(t_stat))\n",
    "print(\"p-value is {}.\".format(p))"
   ]
  },
  {
   "cell_type": "code",
   "execution_count": null,
   "metadata": {},
   "outputs": [],
   "source": []
  }
 ],
 "metadata": {
  "kernelspec": {
   "display_name": "Python 3",
   "language": "python",
   "name": "python3"
  },
  "language_info": {
   "codemirror_mode": {
    "name": "ipython",
    "version": 3
   },
   "file_extension": ".py",
   "mimetype": "text/x-python",
   "name": "python",
   "nbconvert_exporter": "python",
   "pygments_lexer": "ipython3",
   "version": "3.6.4"
  }
 },
 "nbformat": 4,
 "nbformat_minor": 2
}
