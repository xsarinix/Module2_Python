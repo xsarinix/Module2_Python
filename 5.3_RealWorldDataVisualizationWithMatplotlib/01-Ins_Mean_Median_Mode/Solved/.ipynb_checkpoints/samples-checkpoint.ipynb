{
 "cells": [
  {
   "cell_type": "code",
   "execution_count": 10,
   "metadata": {},
   "outputs": [],
   "source": [
    "# Dependencies\n",
    "from stats import mean, median, mode, multi_mode\n",
    "import numpy as np"
   ]
  },
  {
   "cell_type": "code",
   "execution_count": 13,
   "metadata": {},
   "outputs": [
    {
     "name": "stdout",
     "output_type": "stream",
     "text": [
      "Median Price: 425\n",
      "Upper Quartile: 984.0\n"
     ]
    },
    {
     "data": {
      "text/plain": [
       "'Lower Quartile: 49.0'"
      ]
     },
     "execution_count": 13,
     "metadata": {},
     "output_type": "execute_result"
    }
   ],
   "source": [
    "# Prices of random electronics at Best Buy\n",
    "prices = [4, 425, 984, 2932, 49]\n",
    "print(f\"Median Price: {median(prices)}\")\n",
    "print(f\"Upper Quartile: {np.percentile(prices, 75)}\")\n",
    "print(f\"Lower Quartile: {np.percentile(prices,25)}\")"
   ]
  },
  {
   "cell_type": "code",
   "execution_count": 15,
   "metadata": {},
   "outputs": [
    {
     "name": "stdout",
     "output_type": "stream",
     "text": [
      "Mean Bootcamp Age: 36.666666666666664\n",
      "Median Bootcamp Age: 35.5\n",
      "Lower Quartile: 40.5\n",
      "Lower Quartile: 29.75\n"
     ]
    }
   ],
   "source": [
    "# Ages of students in bootcamp\n",
    "bootcamp_classroom_ages = [27, 35, 42, 52, 36, 28]\n",
    "print(f\"Mean Bootcamp Age: {mean(bootcamp_classroom_ages)}\")\n",
    "print(f\"Median Bootcamp Age: {median(bootcamp_classroom_ages)}\")\n",
    "print(f\"Lower Quartile: {np.percentile(bootcamp_classroom_ages, 75)}\")\n",
    "print(f\"Lower Quartile: {np.percentile(bootcamp_classroom_ages, 25)}\")"
   ]
  },
  {
   "cell_type": "code",
   "execution_count": 16,
   "metadata": {},
   "outputs": [
    {
     "name": "stdout",
     "output_type": "stream",
     "text": [
      "Mode of Birthday Party Ages: 19.142857142857142\n",
      "Median Age: 6\n",
      "Lower Quartile: 34.5\n",
      "Lower Quartile: 6.0\n"
     ]
    }
   ],
   "source": [
    "# Ages of children and parents at child's party\n",
    "birthday_party_ages = [6, 5, 6, 6, 35, 42, 34]\n",
    "print(f\"Mode of Birthday Party Ages: {mean(birthday_party_ages)}\")\n",
    "print(f\"Median Age: {median(birthday_party_ages)}\")\n",
    "print(f\"Lower Quartile: {np.percentile(birthday_party_ages, 75)}\")\n",
    "print(f\"Lower Quartile: {np.percentile(birthday_party_ages, 25)}\")"
   ]
  },
  {
   "cell_type": "code",
   "execution_count": 17,
   "metadata": {},
   "outputs": [
    {
     "name": "stdout",
     "output_type": "stream",
     "text": [
      "Mean of Geography Test Scores: 91.0\n",
      "Median Age: 91\n",
      "Lower Quartile: 93.0\n",
      "Lower Quartile: 89.0\n"
     ]
    }
   ],
   "source": [
    "# Test score from a 2nd grade geography test\n",
    "geo_grades = [87, 89, 91, 93, 95]\n",
    "print(f\"Mean of Geography Test Scores: {mean(geo_grades)}\")\n",
    "print(f\"Median Age: {median(geo_grades)}\")\n",
    "print(f\"Lower Quartile: {np.percentile(geo_grades, 75)}\")\n",
    "print(f\"Lower Quartile: {np.percentile(geo_grades, 25)}\")"
   ]
  },
  {
   "cell_type": "code",
   "execution_count": 6,
   "metadata": {},
   "outputs": [
    {
     "name": "stdout",
     "output_type": "stream",
     "text": [
      "Median of QM Grades: 58\n",
      "Modes of QM Grades: [(13, 2), (63, 2)]\n",
      "45.142857142857146\n"
     ]
    }
   ],
   "source": [
    "# Test scores from a graduate quantum mechanics midterm\n",
    "quantum_grades = [63, 63, 98, 13, 58, 13, 8]\n",
    "print(f\"Median of QM Grades: {median(quantum_grades)}\")\n",
    "print(f\"Modes of QM Grades: {multi_mode(quantum_grades)}\")\n",
    "print(mean(quantum_grades))"
   ]
  },
  {
   "cell_type": "code",
   "execution_count": null,
   "metadata": {},
   "outputs": [],
   "source": []
  }
 ],
 "metadata": {
  "kernelspec": {
   "display_name": "Python 3",
   "language": "python",
   "name": "python3"
  },
  "language_info": {
   "codemirror_mode": {
    "name": "ipython",
    "version": 3
   },
   "file_extension": ".py",
   "mimetype": "text/x-python",
   "name": "python",
   "nbconvert_exporter": "python",
   "pygments_lexer": "ipython3",
   "version": "3.6.6"
  }
 },
 "nbformat": 4,
 "nbformat_minor": 2
}
