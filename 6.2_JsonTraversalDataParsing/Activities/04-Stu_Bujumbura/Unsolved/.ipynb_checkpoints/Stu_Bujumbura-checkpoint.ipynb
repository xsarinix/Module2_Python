{
 "cells": [
  {
   "cell_type": "code",
   "execution_count": 24,
   "metadata": {},
   "outputs": [],
   "source": [
    "# Dependencies\n",
    "import requests\n",
    "from config import api_key, api_call\n",
    "from pprint import pprint"
   ]
  },
  {
   "cell_type": "code",
   "execution_count": 25,
   "metadata": {},
   "outputs": [
    {
     "name": "stdout",
     "output_type": "stream",
     "text": [
      "{'base': 'stations',\n",
      " 'clouds': {'all': 64},\n",
      " 'cod': 200,\n",
      " 'coord': {'lat': -3.36, 'lon': 29.37},\n",
      " 'dt': 1542243901,\n",
      " 'id': 425378,\n",
      " 'main': {'grnd_level': 855.51,\n",
      "          'humidity': 100,\n",
      "          'pressure': 855.51,\n",
      "          'sea_level': 1022.17,\n",
      "          'temp': 16.19,\n",
      "          'temp_max': 16.19,\n",
      "          'temp_min': 16.19},\n",
      " 'name': 'Bujumbura',\n",
      " 'sys': {'country': 'BI',\n",
      "         'message': 0.0073,\n",
      "         'sunrise': 1542253140,\n",
      "         'sunset': 1542297309},\n",
      " 'weather': [{'description': 'broken clouds',\n",
      "              'icon': '04n',\n",
      "              'id': 803,\n",
      "              'main': 'Clouds'}],\n",
      " 'wind': {'deg': 231.001, 'speed': 0.37}}\n"
     ]
    }
   ],
   "source": [
    "# Build query URL and request your results in Celsius\n",
    "url = \"http://api.openweathermap.org/data/2.5/weather?\"\n",
    "city = \"Bujumbura\"\n",
    "units=\"&units=metric\"\n",
    "query_url=url+api_call+api_key+\"&q=\"+city+units\n",
    "\n",
    "# Get weather data\n",
    "response=requests.get(query_url)\n",
    "bujumbura_data=response.json()\n",
    "pprint(bujumbura_data)"
   ]
  },
  {
   "cell_type": "code",
   "execution_count": 26,
   "metadata": {},
   "outputs": [],
   "source": [
    "# Get temperature from JSON response\n",
    "temp=bujumbura_data['main']['temp']"
   ]
  },
  {
   "cell_type": "code",
   "execution_count": 23,
   "metadata": {},
   "outputs": [
    {
     "name": "stdout",
     "output_type": "stream",
     "text": [
      "The current temperature in Bujumbura is 16.19 degrees Celsius.\n"
     ]
    }
   ],
   "source": [
    "# Report temperature\n",
    "print(f'The current temperature in Bujumbura is {temp} degrees Celsius.')"
   ]
  },
  {
   "cell_type": "code",
   "execution_count": null,
   "metadata": {},
   "outputs": [],
   "source": []
  }
 ],
 "metadata": {
  "kernelspec": {
   "display_name": "Python 3",
   "language": "python",
   "name": "python3"
  },
  "language_info": {
   "codemirror_mode": {
    "name": "ipython",
    "version": 3
   },
   "file_extension": ".py",
   "mimetype": "text/x-python",
   "name": "python",
   "nbconvert_exporter": "python",
   "pygments_lexer": "ipython3",
   "version": "3.6.6"
  },
  "varInspector": {
   "cols": {
    "lenName": 16,
    "lenType": 16,
    "lenVar": 40
   },
   "kernels_config": {
    "python": {
     "delete_cmd_postfix": "",
     "delete_cmd_prefix": "del ",
     "library": "var_list.py",
     "varRefreshCmd": "print(var_dic_list())"
    },
    "r": {
     "delete_cmd_postfix": ") ",
     "delete_cmd_prefix": "rm(",
     "library": "var_list.r",
     "varRefreshCmd": "cat(var_dic_list()) "
    }
   },
   "types_to_exclude": [
    "module",
    "function",
    "builtin_function_or_method",
    "instance",
    "_Feature"
   ],
   "window_display": false
  }
 },
 "nbformat": 4,
 "nbformat_minor": 2
}
