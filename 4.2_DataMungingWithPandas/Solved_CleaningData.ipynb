{
 "cells": [
  {
   "cell_type": "code",
   "execution_count": 1,
   "metadata": {},
   "outputs": [],
   "source": [
    "# Dependencies\n",
    "import pandas as pd\n",
    "import numpy as np"
   ]
  },
  {
   "cell_type": "code",
   "execution_count": 2,
   "metadata": {
    "inputHidden": false,
    "outputHidden": false
   },
   "outputs": [],
   "source": [
    "# Name of the CSV file\n",
    "file = \"donors2008.csv\""
   ]
  },
  {
   "cell_type": "code",
   "execution_count": 3,
   "metadata": {
    "inputHidden": false,
    "outputHidden": false
   },
   "outputs": [],
   "source": [
    "# The correct encoding must be used to read the CSV in pandas\n",
    "df = pd.read_csv(file, encoding=\"ISO-8859-1\")"
   ]
  },
  {
   "cell_type": "code",
   "execution_count": 5,
   "metadata": {
    "inputHidden": false,
    "outputHidden": false
   },
   "outputs": [
    {
     "data": {
      "text/html": [
       "<div>\n",
       "<style scoped>\n",
       "    .dataframe tbody tr th:only-of-type {\n",
       "        vertical-align: middle;\n",
       "    }\n",
       "\n",
       "    .dataframe tbody tr th {\n",
       "        vertical-align: top;\n",
       "    }\n",
       "\n",
       "    .dataframe thead th {\n",
       "        text-align: right;\n",
       "    }\n",
       "</style>\n",
       "<table border=\"1\" class=\"dataframe\">\n",
       "  <thead>\n",
       "    <tr style=\"text-align: right;\">\n",
       "      <th></th>\n",
       "      <th>LastName</th>\n",
       "      <th>FirstName</th>\n",
       "      <th>Employer</th>\n",
       "      <th>City</th>\n",
       "      <th>State</th>\n",
       "      <th>Zip</th>\n",
       "      <th>Amount</th>\n",
       "      <th>FIELD8</th>\n",
       "    </tr>\n",
       "  </thead>\n",
       "  <tbody>\n",
       "    <tr>\n",
       "      <th>0</th>\n",
       "      <td>Aaron</td>\n",
       "      <td>Eugene</td>\n",
       "      <td>State Department</td>\n",
       "      <td>Dulles</td>\n",
       "      <td>VA</td>\n",
       "      <td>20189</td>\n",
       "      <td>500.0</td>\n",
       "      <td>NaN</td>\n",
       "    </tr>\n",
       "    <tr>\n",
       "      <th>1</th>\n",
       "      <td>Abadi</td>\n",
       "      <td>Barbara</td>\n",
       "      <td>Abadi &amp; Co.</td>\n",
       "      <td>New York</td>\n",
       "      <td>NY</td>\n",
       "      <td>10021</td>\n",
       "      <td>200.0</td>\n",
       "      <td>NaN</td>\n",
       "    </tr>\n",
       "    <tr>\n",
       "      <th>2</th>\n",
       "      <td>Adamany</td>\n",
       "      <td>Anthony</td>\n",
       "      <td>Retired</td>\n",
       "      <td>Rockford</td>\n",
       "      <td>IL</td>\n",
       "      <td>61103</td>\n",
       "      <td>500.0</td>\n",
       "      <td>NaN</td>\n",
       "    </tr>\n",
       "    <tr>\n",
       "      <th>3</th>\n",
       "      <td>Adams</td>\n",
       "      <td>Lorraine</td>\n",
       "      <td>Self</td>\n",
       "      <td>New York</td>\n",
       "      <td>NY</td>\n",
       "      <td>10026</td>\n",
       "      <td>200.0</td>\n",
       "      <td>NaN</td>\n",
       "    </tr>\n",
       "    <tr>\n",
       "      <th>4</th>\n",
       "      <td>Adams</td>\n",
       "      <td>Marion</td>\n",
       "      <td>None</td>\n",
       "      <td>Exeter</td>\n",
       "      <td>NH</td>\n",
       "      <td>03833</td>\n",
       "      <td>100.0</td>\n",
       "      <td>NaN</td>\n",
       "    </tr>\n",
       "  </tbody>\n",
       "</table>\n",
       "</div>"
      ],
      "text/plain": [
       "  LastName FirstName          Employer      City State    Zip  Amount  FIELD8\n",
       "0    Aaron    Eugene  State Department    Dulles    VA  20189   500.0     NaN\n",
       "1    Abadi   Barbara       Abadi & Co.  New York    NY  10021   200.0     NaN\n",
       "2  Adamany   Anthony           Retired  Rockford    IL  61103   500.0     NaN\n",
       "3    Adams  Lorraine              Self  New York    NY  10026   200.0     NaN\n",
       "4    Adams    Marion              None    Exeter    NH  03833   100.0     NaN"
      ]
     },
     "execution_count": 5,
     "metadata": {},
     "output_type": "execute_result"
    }
   ],
   "source": [
    "# Preview of the DataFrame\n",
    "# Note that FIELD8 is likely a meaningless column\n",
    "df.head()"
   ]
  },
  {
   "cell_type": "code",
   "execution_count": 6,
   "metadata": {
    "inputHidden": false,
    "outputHidden": false
   },
   "outputs": [
    {
     "data": {
      "text/html": [
       "<div>\n",
       "<style scoped>\n",
       "    .dataframe tbody tr th:only-of-type {\n",
       "        vertical-align: middle;\n",
       "    }\n",
       "\n",
       "    .dataframe tbody tr th {\n",
       "        vertical-align: top;\n",
       "    }\n",
       "\n",
       "    .dataframe thead th {\n",
       "        text-align: right;\n",
       "    }\n",
       "</style>\n",
       "<table border=\"1\" class=\"dataframe\">\n",
       "  <thead>\n",
       "    <tr style=\"text-align: right;\">\n",
       "      <th></th>\n",
       "      <th>LastName</th>\n",
       "      <th>FirstName</th>\n",
       "      <th>Employer</th>\n",
       "      <th>City</th>\n",
       "      <th>State</th>\n",
       "      <th>Zip</th>\n",
       "      <th>Amount</th>\n",
       "    </tr>\n",
       "  </thead>\n",
       "  <tbody>\n",
       "    <tr>\n",
       "      <th>0</th>\n",
       "      <td>Aaron</td>\n",
       "      <td>Eugene</td>\n",
       "      <td>State Department</td>\n",
       "      <td>Dulles</td>\n",
       "      <td>VA</td>\n",
       "      <td>20189</td>\n",
       "      <td>500.0</td>\n",
       "    </tr>\n",
       "    <tr>\n",
       "      <th>1</th>\n",
       "      <td>Abadi</td>\n",
       "      <td>Barbara</td>\n",
       "      <td>Abadi &amp; Co.</td>\n",
       "      <td>New York</td>\n",
       "      <td>NY</td>\n",
       "      <td>10021</td>\n",
       "      <td>200.0</td>\n",
       "    </tr>\n",
       "    <tr>\n",
       "      <th>2</th>\n",
       "      <td>Adamany</td>\n",
       "      <td>Anthony</td>\n",
       "      <td>Retired</td>\n",
       "      <td>Rockford</td>\n",
       "      <td>IL</td>\n",
       "      <td>61103</td>\n",
       "      <td>500.0</td>\n",
       "    </tr>\n",
       "    <tr>\n",
       "      <th>3</th>\n",
       "      <td>Adams</td>\n",
       "      <td>Lorraine</td>\n",
       "      <td>Self</td>\n",
       "      <td>New York</td>\n",
       "      <td>NY</td>\n",
       "      <td>10026</td>\n",
       "      <td>200.0</td>\n",
       "    </tr>\n",
       "    <tr>\n",
       "      <th>4</th>\n",
       "      <td>Adams</td>\n",
       "      <td>Marion</td>\n",
       "      <td>None</td>\n",
       "      <td>Exeter</td>\n",
       "      <td>NH</td>\n",
       "      <td>03833</td>\n",
       "      <td>100.0</td>\n",
       "    </tr>\n",
       "  </tbody>\n",
       "</table>\n",
       "</div>"
      ],
      "text/plain": [
       "  LastName FirstName          Employer      City State    Zip  Amount\n",
       "0    Aaron    Eugene  State Department    Dulles    VA  20189   500.0\n",
       "1    Abadi   Barbara       Abadi & Co.  New York    NY  10021   200.0\n",
       "2  Adamany   Anthony           Retired  Rockford    IL  61103   500.0\n",
       "3    Adams  Lorraine              Self  New York    NY  10026   200.0\n",
       "4    Adams    Marion              None    Exeter    NH  03833   100.0"
      ]
     },
     "execution_count": 6,
     "metadata": {},
     "output_type": "execute_result"
    }
   ],
   "source": [
    "# Delete extraneous column\n",
    "del df['FIELD8']\n",
    "df.head()"
   ]
  },
  {
   "cell_type": "code",
   "execution_count": 7,
   "metadata": {
    "inputHidden": false,
    "outputHidden": false
   },
   "outputs": [
    {
     "data": {
      "text/plain": [
       "LastName     1776\n",
       "FirstName    1776\n",
       "Employer     1743\n",
       "City         1776\n",
       "State        1776\n",
       "Zip          1776\n",
       "Amount       1776\n",
       "dtype: int64"
      ]
     },
     "execution_count": 7,
     "metadata": {},
     "output_type": "execute_result"
    }
   ],
   "source": [
    "# Identify incomplete rows\n",
    "df.count()"
   ]
  },
  {
   "cell_type": "code",
   "execution_count": 8,
   "metadata": {
    "inputHidden": false,
    "outputHidden": false
   },
   "outputs": [],
   "source": [
    "# Drop all rows with missing information\n",
    "df = df.dropna(how='any')"
   ]
  },
  {
   "cell_type": "code",
   "execution_count": 9,
   "metadata": {
    "inputHidden": false,
    "outputHidden": false
   },
   "outputs": [
    {
     "data": {
      "text/plain": [
       "LastName     1743\n",
       "FirstName    1743\n",
       "Employer     1743\n",
       "City         1743\n",
       "State        1743\n",
       "Zip          1743\n",
       "Amount       1743\n",
       "dtype: int64"
      ]
     },
     "execution_count": 9,
     "metadata": {},
     "output_type": "execute_result"
    }
   ],
   "source": [
    "# Verify dropped rows\n",
    "df.count()"
   ]
  },
  {
   "cell_type": "code",
   "execution_count": 12,
   "metadata": {
    "inputHidden": false,
    "outputHidden": false
   },
   "outputs": [
    {
     "data": {
      "text/plain": [
       "LastName      object\n",
       "FirstName     object\n",
       "Employer      object\n",
       "City          object\n",
       "State         object\n",
       "Zip           object\n",
       "Amount       float64\n",
       "dtype: object"
      ]
     },
     "execution_count": 12,
     "metadata": {},
     "output_type": "execute_result"
    }
   ],
   "source": [
    "# The Amount column is the wrong data type. It should be numeric.\n",
    "df.dtypes"
   ]
  },
  {
   "cell_type": "code",
   "execution_count": 27,
   "metadata": {
    "inputHidden": false,
    "outputHidden": false
   },
   "outputs": [],
   "source": [
    "# Use pd.to_numeric() method to convert the datatype of the Amount column\n",
    "df[\"Amount\"] = pd.to_numeric(df[\"Amount\"])"
   ]
  },
  {
   "cell_type": "code",
   "execution_count": 16,
   "metadata": {
    "inputHidden": false,
    "outputHidden": false
   },
   "outputs": [
    {
     "data": {
      "text/plain": [
       "dtype('float64')"
      ]
     },
     "execution_count": 16,
     "metadata": {},
     "output_type": "execute_result"
    }
   ],
   "source": [
    "# Verify that the Amount column datatype has been made numeric\n",
    "df[\"Amount\"].dtype"
   ]
  },
  {
   "cell_type": "code",
   "execution_count": 17,
   "metadata": {
    "inputHidden": false,
    "outputHidden": false
   },
   "outputs": [
    {
     "data": {
      "text/plain": [
       "None                                           249\n",
       "Self                                           241\n",
       "Retired                                        126\n",
       "Self Employed                                   39\n",
       "Self-Employed                                   34\n",
       "Google                                           6\n",
       "Unemployed                                       4\n",
       "Not Employed                                     4\n",
       "Social Security Administration                   3\n",
       "Bank Of America                                  3\n",
       "University of California                         3\n",
       "Henry Crown & Company                            2\n",
       "Rainey Cluss LLC                                 2\n",
       "University of Michigan                           2\n",
       "Mayer Brown LLP                                  2\n",
       "State Department                                 2\n",
       "Northern Trust                                   2\n",
       "University of Washington                         2\n",
       "Mayer Brown                                      2\n",
       "Hugo Neu Corporation                             2\n",
       "ExxonMobil                                       2\n",
       "University Hospital                              2\n",
       "LMI                                              2\n",
       "University Of Michigan                           2\n",
       "Harvard University                               2\n",
       "Freelance                                        2\n",
       "Davis Polk & Wardwell                            2\n",
       "Newton Public Schools                            2\n",
       "Covington & Burling                              2\n",
       "UCLA                                             2\n",
       "                                              ... \n",
       "AMLI Residential Partners, LLC                   1\n",
       "HebrewSeniorLife                                 1\n",
       "Group Health                                     1\n",
       "Mission Ventures                                 1\n",
       "Long Island University                           1\n",
       "Vello Corporation                                1\n",
       "Carrington & Carrington                          1\n",
       "Full Discourse, LLC                              1\n",
       "Lion Cave Capital                                1\n",
       "New Center CMHS                                  1\n",
       "VCUHS                                            1\n",
       "Rutgers, The State University of New Jersey      1\n",
       "Advocate Health Care                             1\n",
       "CEMAR                                            1\n",
       "Verizon                                          1\n",
       "Mts Systems Corporation                          1\n",
       "Innervoice, Inc.                                 1\n",
       "NJDHSS                                           1\n",
       "Justice Matters                                  1\n",
       "Scpmg                                            1\n",
       "ADP Enterprises, Inc.                            1\n",
       "Rockford Board of Education                      1\n",
       "Guercio & Guercio Llp                            1\n",
       "Cahill Gordon & Reindel LLP                      1\n",
       "Council For Excellence In Government             1\n",
       "Affiliated Behavioral Medical                    1\n",
       "University Research Co., Llc                     1\n",
       "Portfolio Recovery                               1\n",
       "Bayhill Therapeutics                             1\n",
       "Henry Ford Health System                         1\n",
       "Name: Employer, Length: 1011, dtype: int64"
      ]
     },
     "execution_count": 17,
     "metadata": {},
     "output_type": "execute_result"
    }
   ],
   "source": [
    "# Display an overview of the Employers column\n",
    "df['Employer'].value_counts()"
   ]
  },
  {
   "cell_type": "code",
   "execution_count": 21,
   "metadata": {
    "inputHidden": false,
    "outputHidden": false
   },
   "outputs": [],
   "source": [
    "# Clean up Employer category. Replace 'Self Employed' and 'Self' with 'Self-Employed'\n",
    "df['Employer'] = df['Employer'].replace(\n",
    "    {'Self Employed': 'Self-Employed', 'Self': 'Self-Employed'})\n",
    "df['Employer']=df['Employer'].replace({'Not Employed':'Unemployed','None':'Unemployed'})"
   ]
  },
  {
   "cell_type": "code",
   "execution_count": 22,
   "metadata": {
    "inputHidden": false,
    "outputHidden": false
   },
   "outputs": [
    {
     "data": {
      "text/plain": [
       "Self-Employed                                  314\n",
       "Unemployed                                     257\n",
       "Retired                                        126\n",
       "Google                                           6\n",
       "Bank Of America                                  3\n",
       "University of California                         3\n",
       "Social Security Administration                   3\n",
       "Mayer Brown                                      2\n",
       "University Hospital                              2\n",
       "LMI                                              2\n",
       "Northern Trust                                   2\n",
       "University Of Michigan                           2\n",
       "Hugo Neu Corporation                             2\n",
       "Harvard University                               2\n",
       "Henry Crown & Company                            2\n",
       "Rainey Cluss LLC                                 2\n",
       "University of Michigan                           2\n",
       "Microsoft                                        2\n",
       "Berger & Montague                                2\n",
       "ExxonMobil                                       2\n",
       "Freelance                                        2\n",
       "Quadrangle Group                                 2\n",
       "University of Washington                         2\n",
       "Covington & Burling                              2\n",
       "UCLA                                             2\n",
       "United Health Group                              2\n",
       "Sidley Austin LLP                                2\n",
       "Mayer Brown LLP                                  2\n",
       "Skadden, Arps                                    2\n",
       "Jones Day                                        2\n",
       "                                              ... \n",
       "Essex Meadows, Inc.                              1\n",
       "AMLI Residential Partners, LLC                   1\n",
       "Mts Systems Corporation                          1\n",
       "Long Island University                           1\n",
       "Vello Corporation                                1\n",
       "Carrington & Carrington                          1\n",
       "Full Discourse, LLC                              1\n",
       "Lion Cave Capital                                1\n",
       "New Center CMHS                                  1\n",
       "VCUHS                                            1\n",
       "Rutgers, The State University of New Jersey      1\n",
       "Advocate Health Care                             1\n",
       "CEMAR                                            1\n",
       "Verizon                                          1\n",
       "Group Health                                     1\n",
       "NJDHSS                                           1\n",
       "HebrewSeniorLife                                 1\n",
       "Justice Matters                                  1\n",
       "Scpmg                                            1\n",
       "ADP Enterprises, Inc.                            1\n",
       "Rockford Board of Education                      1\n",
       "Guercio & Guercio Llp                            1\n",
       "Cahill Gordon & Reindel LLP                      1\n",
       "Council For Excellence In Government             1\n",
       "Affiliated Behavioral Medical                    1\n",
       "University Research Co., Llc                     1\n",
       "Portfolio Recovery                               1\n",
       "Bayhill Therapeutics                             1\n",
       "Innervoice, Inc.                                 1\n",
       "Henry Ford Health System                         1\n",
       "Name: Employer, Length: 1007, dtype: int64"
      ]
     },
     "execution_count": 22,
     "metadata": {},
     "output_type": "execute_result"
    }
   ],
   "source": [
    "# Verify clean-up.\n",
    "df['Employer'].value_counts()"
   ]
  },
  {
   "cell_type": "code",
   "execution_count": 23,
   "metadata": {
    "inputHidden": false,
    "outputHidden": false
   },
   "outputs": [
    {
     "data": {
      "text/plain": [
       "Self-Employed                                  314\n",
       "Unemployed                                     257\n",
       "Retired                                        126\n",
       "Google                                           6\n",
       "Bank Of America                                  3\n",
       "University of California                         3\n",
       "Social Security Administration                   3\n",
       "Mayer Brown                                      2\n",
       "University Hospital                              2\n",
       "LMI                                              2\n",
       "Northern Trust                                   2\n",
       "University Of Michigan                           2\n",
       "Hugo Neu Corporation                             2\n",
       "Harvard University                               2\n",
       "Henry Crown & Company                            2\n",
       "Rainey Cluss LLC                                 2\n",
       "University of Michigan                           2\n",
       "Microsoft                                        2\n",
       "Berger & Montague                                2\n",
       "ExxonMobil                                       2\n",
       "Freelance                                        2\n",
       "Quadrangle Group                                 2\n",
       "University of Washington                         2\n",
       "Covington & Burling                              2\n",
       "UCLA                                             2\n",
       "United Health Group                              2\n",
       "Sidley Austin LLP                                2\n",
       "Mayer Brown LLP                                  2\n",
       "Skadden, Arps                                    2\n",
       "Jones Day                                        2\n",
       "                                              ... \n",
       "Essex Meadows, Inc.                              1\n",
       "AMLI Residential Partners, LLC                   1\n",
       "Mts Systems Corporation                          1\n",
       "Long Island University                           1\n",
       "Vello Corporation                                1\n",
       "Carrington & Carrington                          1\n",
       "Full Discourse, LLC                              1\n",
       "Lion Cave Capital                                1\n",
       "New Center CMHS                                  1\n",
       "VCUHS                                            1\n",
       "Rutgers, The State University of New Jersey      1\n",
       "Advocate Health Care                             1\n",
       "CEMAR                                            1\n",
       "Verizon                                          1\n",
       "Group Health                                     1\n",
       "NJDHSS                                           1\n",
       "HebrewSeniorLife                                 1\n",
       "Justice Matters                                  1\n",
       "Scpmg                                            1\n",
       "ADP Enterprises, Inc.                            1\n",
       "Rockford Board of Education                      1\n",
       "Guercio & Guercio Llp                            1\n",
       "Cahill Gordon & Reindel LLP                      1\n",
       "Council For Excellence In Government             1\n",
       "Affiliated Behavioral Medical                    1\n",
       "University Research Co., Llc                     1\n",
       "Portfolio Recovery                               1\n",
       "Bayhill Therapeutics                             1\n",
       "Innervoice, Inc.                                 1\n",
       "Henry Ford Health System                         1\n",
       "Name: Employer, Length: 1007, dtype: int64"
      ]
     },
     "execution_count": 23,
     "metadata": {},
     "output_type": "execute_result"
    }
   ],
   "source": [
    "df['Employer'] = df['Employer'].replace({'Not Employed': 'Unemployed'})\n",
    "df['Employer'].value_counts()"
   ]
  },
  {
   "cell_type": "code",
   "execution_count": 24,
   "metadata": {
    "inputHidden": false,
    "outputHidden": false
   },
   "outputs": [
    {
     "data": {
      "text/html": [
       "<div>\n",
       "<style scoped>\n",
       "    .dataframe tbody tr th:only-of-type {\n",
       "        vertical-align: middle;\n",
       "    }\n",
       "\n",
       "    .dataframe tbody tr th {\n",
       "        vertical-align: top;\n",
       "    }\n",
       "\n",
       "    .dataframe thead th {\n",
       "        text-align: right;\n",
       "    }\n",
       "</style>\n",
       "<table border=\"1\" class=\"dataframe\">\n",
       "  <thead>\n",
       "    <tr style=\"text-align: right;\">\n",
       "      <th></th>\n",
       "      <th>Amount</th>\n",
       "    </tr>\n",
       "  </thead>\n",
       "  <tbody>\n",
       "    <tr>\n",
       "      <th>count</th>\n",
       "      <td>1743.000000</td>\n",
       "    </tr>\n",
       "    <tr>\n",
       "      <th>mean</th>\n",
       "      <td>640.124750</td>\n",
       "    </tr>\n",
       "    <tr>\n",
       "      <th>std</th>\n",
       "      <td>1242.343265</td>\n",
       "    </tr>\n",
       "    <tr>\n",
       "      <th>min</th>\n",
       "      <td>5.000000</td>\n",
       "    </tr>\n",
       "    <tr>\n",
       "      <th>25%</th>\n",
       "      <td>200.000000</td>\n",
       "    </tr>\n",
       "    <tr>\n",
       "      <th>50%</th>\n",
       "      <td>250.000000</td>\n",
       "    </tr>\n",
       "    <tr>\n",
       "      <th>75%</th>\n",
       "      <td>500.000000</td>\n",
       "    </tr>\n",
       "    <tr>\n",
       "      <th>max</th>\n",
       "      <td>5000.000000</td>\n",
       "    </tr>\n",
       "  </tbody>\n",
       "</table>\n",
       "</div>"
      ],
      "text/plain": [
       "            Amount\n",
       "count  1743.000000\n",
       "mean    640.124750\n",
       "std    1242.343265\n",
       "min       5.000000\n",
       "25%     200.000000\n",
       "50%     250.000000\n",
       "75%     500.000000\n",
       "max    5000.000000"
      ]
     },
     "execution_count": 24,
     "metadata": {},
     "output_type": "execute_result"
    }
   ],
   "source": [
    "# Display a statistical overview\n",
    "# We can infer the maximum allowable individual contribution from 'max'\n",
    "df.describe()"
   ]
  }
 ],
 "metadata": {
  "anaconda-cloud": {},
  "kernel_info": {
   "name": "python3"
  },
  "kernelspec": {
   "display_name": "Python 3",
   "language": "python",
   "name": "python3"
  },
  "language_info": {
   "codemirror_mode": {
    "name": "ipython",
    "version": 3
   },
   "file_extension": ".py",
   "mimetype": "text/x-python",
   "name": "python",
   "nbconvert_exporter": "python",
   "pygments_lexer": "ipython3",
   "version": "3.6.6"
  },
  "nteract": {
   "version": "0.2.0"
  }
 },
 "nbformat": 4,
 "nbformat_minor": 2
}
